{
 "cells": [
  {
   "cell_type": "code",
   "execution_count": 5,
   "metadata": {},
   "outputs": [],
   "source": [
    "#import required libraries \n",
    "#import OpenCV library\n",
    "import cv2\n",
    "#import matplotlib library\n",
    "#inmport OS\n",
    "import os"
   ]
  },
  {
   "cell_type": "code",
   "execution_count": 6,
   "metadata": {},
   "outputs": [],
   "source": [
    "def convertToRGB(img):\n",
    "    return cv2.cvtColor(img, cv2.COLOR_BGR2RGB)"
   ]
  },
  {
   "cell_type": "code",
   "execution_count": 9,
   "metadata": {},
   "outputs": [
    {
     "name": "stdout",
     "output_type": "stream",
     "text": [
      "1.jpeg - Faces: 1\n",
      "10.jpg - Faces: 1\n",
      "11.jpg - Faces: 1\n",
      "12.jpg - Faces: 1\n",
      "13.jpg - Faces: 1\n",
      "14.jpg - Faces: 1\n",
      "15.jpg - Faces: 1\n",
      "16.jpg - Faces: 1\n",
      "17.jpg - Faces: 1\n",
      "18.jpg - Faces: 1\n",
      "19.jpg - Faces: 1\n",
      "2.jpeg - Faces: 1\n",
      "3.jpeg - Faces: 1\n",
      "4.jpeg - Faces: 1\n",
      "5.jpeg - Faces: 1\n",
      "6.jpeg - Faces: 1\n",
      "7.jpg - Faces: 1\n",
      "8.jpg - Faces: 1\n",
      "9.jpg - Faces: 1\n"
     ]
    }
   ],
   "source": [
    "pictures=os.listdir('./pictures/')\n",
    "haar_face_cascade = cv2.CascadeClassifier('C:/Users/Fahad/Anaconda2/envs/mypython35/Library/etc/haarcascades/haarcascade_frontalface_alt.xml')\n",
    "count=0\n",
    "for p in pictures:\n",
    "    img = cv2.imread('./pictures/'+p)\n",
    "    gray_img = cv2.cvtColor(img, cv2.COLOR_BGR2GRAY)\n",
    "    faces = haar_face_cascade.detectMultiScale(gray_img, scaleFactor=1.1, minNeighbors=5);\n",
    "    for i,(x, y, w, h) in enumerate(faces):\n",
    "        count+=1\n",
    "        cv2.rectangle(img, (x, y), (x+w, y+h), (0, 255, 0), 2)\n",
    "        img_face=img[y:y+h,x:x+w]\n",
    "        img_face = cv2.resize(img_face,(200,200))\n",
    "        cv2.imwrite('./faces/'+str(count)+'.png',img_face)\n",
    "    print(p+' - Faces: '+str(i+1))\n"
   ]
  },
  {
   "cell_type": "code",
   "execution_count": null,
   "metadata": {
    "collapsed": true
   },
   "outputs": [],
   "source": []
  }
 ],
 "metadata": {
  "kernelspec": {
   "display_name": "Python 3",
   "language": "python",
   "name": "python3"
  },
  "language_info": {
   "codemirror_mode": {
    "name": "ipython",
    "version": 3
   },
   "file_extension": ".py",
   "mimetype": "text/x-python",
   "name": "python",
   "nbconvert_exporter": "python",
   "pygments_lexer": "ipython3",
   "version": "3.5.4"
  }
 },
 "nbformat": 4,
 "nbformat_minor": 2
}
